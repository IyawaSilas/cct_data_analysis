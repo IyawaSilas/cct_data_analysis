{
 "cells": [
  {
   "cell_type": "code",
   "execution_count": 2,
   "id": "67123052",
   "metadata": {},
   "outputs": [
    {
     "name": "stdout",
     "output_type": "stream",
     "text": [
      "hello world\n"
     ]
    }
   ],
   "source": [
    "hello = \"hello world\"\n",
    "print (hello)"
   ]
  },
  {
   "cell_type": "code",
   "execution_count": 22,
   "id": "5ec7e56a",
   "metadata": {},
   "outputs": [
    {
     "name": "stdout",
     "output_type": "stream",
     "text": [
      "List of Fruits                    NO.\n",
      "###########################       ####\n",
      "1.apple\n",
      "2.mango\n",
      "3.Banana\n",
      "4.orange\n",
      "5.grape\n",
      "6.pawpaw\n"
     ]
    }
   ],
   "source": [
    "fruits = [\"Banana\", \"orange\", \"apple\", \"mango\", \"pawpaw\", \"grape\",\"Banana\", \"orange\", \"apple\", \"mango\", \"pawpaw\", \"grape\", ]\n",
    "no_of_fruits = len(fruits) \n",
    "list_of_fruits = set()\n",
    "\n",
    "print(\"List of Fruits                    NO.\")\n",
    "print(\"###########################       ####\")\n",
    "\n",
    "for i in range(no_of_fruits):\n",
    "    list_of_fruits.add(fruits[i])\n",
    "    \n",
    "for i in range(len(list_of_fruits)):\n",
    "    print(str(i+1) + \".\" + list_of_fruits.pop())    \n"
   ]
  },
  {
   "cell_type": "code",
   "execution_count": 78,
   "id": "161fe9f1",
   "metadata": {},
   "outputs": [
    {
     "name": "stdout",
     "output_type": "stream",
     "text": [
      "List of Fruits\t\tNO.\n",
      "##############\t\t####\n",
      "1 . apple\t\t2\n",
      "2 . mango\t\t2\n",
      "3 . Banana\t\t2\n",
      "4 . orange\t\t2\n",
      "5 . grape\t\t2\n",
      "6 . pawpaw\t\t2\n",
      "\n",
      "--------------\t\t----\n",
      "\n",
      "SUM TOTAL:\t\t12\n",
      "\n",
      "--------------\t\t----\n"
     ]
    }
   ],
   "source": [
    "fruits = [\"Banana\", \"orange\", \"apple\", \"mango\", \"pawpaw\", \"grape\",\"Banana\", \"orange\", \"apple\", \"mango\", \"pawpaw\", \"grape\", ]\n",
    "no_of_fruits = len(fruits) \n",
    "set_of_fruits = set()\n",
    "fruit_frequency = dict()\n",
    "\n",
    "print(\"List of Fruits\\t\\tNO.\")\n",
    "print(\"##############\\t\\t####\")\n",
    "\n",
    "for i in range(no_of_fruits):\n",
    "    set_of_fruits.add(fruits[i])\n",
    "    \n",
    "for fruit in set_of_fruits:\n",
    "    fruit_frequency[fruit] = 0\n",
    "    \n",
    "for fruit in fruits:\n",
    "    fruit_frequency[fruit] += 1\n",
    "            \n",
    "    \n",
    "#for i in range(len(list_of_fruits)):\n",
    "    #print(str(i+1) + \".\" + list_of_fruits.pop())    \n",
    "item_no = 0\n",
    "sum_total = 0\n",
    "for fruit in fruit_frequency:\n",
    "    item_no += 1\n",
    "    print(str(item_no)+ \" . \" + fruit+\"\\t\\t\"+ str(fruit_frequency[fruit]))\n",
    "    sum_total += fruit_frequency[fruit]\n",
    "print(\"\\n--------------\\t\\t----\")\n",
    "#print sun total\n",
    "print (\"\\nSUM TOTAL:\\t\\t\" + str(sum_total))\n",
    "print(\"\\n--------------\\t\\t----\")"
   ]
  },
  {
   "cell_type": "markdown",
   "id": "b3647f6c",
   "metadata": {},
   "source": [
    "# LAMBDA FUNCTIONS"
   ]
  },
  {
   "cell_type": "code",
   "execution_count": 1,
   "id": "e1d7eddb",
   "metadata": {},
   "outputs": [],
   "source": [
    "divide_by_2 = lambda y: y / 2"
   ]
  },
  {
   "cell_type": "code",
   "execution_count": 2,
   "id": "f1983255",
   "metadata": {},
   "outputs": [
    {
     "data": {
      "text/plain": [
       "11.0"
      ]
     },
     "execution_count": 2,
     "metadata": {},
     "output_type": "execute_result"
    }
   ],
   "source": [
    "divide_by_2(22)"
   ]
  },
  {
   "cell_type": "code",
   "execution_count": 3,
   "id": "e2b71dd2",
   "metadata": {},
   "outputs": [
    {
     "data": {
      "text/plain": [
       "25"
      ]
     },
     "execution_count": 3,
     "metadata": {},
     "output_type": "execute_result"
    }
   ],
   "source": [
    "(lambda x: x ** 2)(5)    "
   ]
  },
  {
   "cell_type": "code",
   "execution_count": 14,
   "id": "d6c9c503",
   "metadata": {},
   "outputs": [],
   "source": [
    "check_even = lambda x: x % 2 == 0\n",
    "\n"
   ]
  },
  {
   "cell_type": "code",
   "execution_count": 15,
   "id": "621dd9f5",
   "metadata": {},
   "outputs": [
    {
     "data": {
      "text/plain": [
       "True"
      ]
     },
     "execution_count": 15,
     "metadata": {},
     "output_type": "execute_result"
    }
   ],
   "source": [
    "check_even(6)"
   ]
  }
 ],
 "metadata": {
  "kernelspec": {
   "display_name": "Python 3 (ipykernel)",
   "language": "python",
   "name": "python3"
  },
  "language_info": {
   "codemirror_mode": {
    "name": "ipython",
    "version": 3
   },
   "file_extension": ".py",
   "mimetype": "text/x-python",
   "name": "python",
   "nbconvert_exporter": "python",
   "pygments_lexer": "ipython3",
   "version": "3.9.12"
  }
 },
 "nbformat": 4,
 "nbformat_minor": 5
}
