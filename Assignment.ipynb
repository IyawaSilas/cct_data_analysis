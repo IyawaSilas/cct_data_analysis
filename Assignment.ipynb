{
 "cells": [
  {
   "cell_type": "markdown",
   "id": "4dbe7a35",
   "metadata": {},
   "source": [
    "# Q1"
   ]
  },
  {
   "cell_type": "code",
   "execution_count": 35,
   "id": "14753719",
   "metadata": {},
   "outputs": [
    {
     "name": "stdout",
     "output_type": "stream",
     "text": [
      "Total Names of Student:\n",
      "['carol', 'Albert', 'Ben', 'Donna', 'Phillip', 'Evans', 'Samuel', 'Tina', 'Eva']\n",
      "............................................\n",
      "............................................\n",
      "Total Numbers of Student:\n",
      "9\n"
     ]
    }
   ],
   "source": [
    "Old_Students=[\"carol\",\"Albert\",\"Ben\",\"Donna\"]\n",
    "New_Students=[\"Phillip\",\"Evans\",\"Samuel\",\"Tina\",\"Eva\"]\n",
    "Old_Students.extend(New_Students)\n",
    "print (\"Total Names of Student:\")\n",
    "print(Old_Students)\n",
    "print (\"............................................\")\n",
    "print (\"Total Names of Student:\")\n",
    "Total_Students = len(Old_Students)\n",
    "print(Total_Students)"
   ]
  },
  {
   "cell_type": "code",
   "execution_count": 41,
   "id": "d147ae85",
   "metadata": {},
   "outputs": [
    {
     "name": "stdout",
     "output_type": "stream",
     "text": [
      "Total Names of Student\t\tNO.\n",
      "#############\t\t####\n",
      "1 . carol\t\t1\n",
      "2 . Albert\t\t1\n",
      "3 . Ben\t\t1\n",
      "4 . Donna\t\t1\n",
      "5 . Phillip\t\t1\n",
      "6 . Evans\t\t1\n",
      "7 . Samuel\t\t1\n",
      "8 . Tina\t\t1\n",
      "9 . Eva\t\t1\n",
      "\n",
      "--------------\t\t----\n",
      "\n",
      "SUM TOTAL:\t\t9\n",
      "\n",
      "--------------\t\t----\n"
     ]
    }
   ],
   "source": [
    "Old_Students=[\"carol\",\"Albert\",\"Ben\",\"Donna\"]\n",
    "New_Students=[\"Phillip\",\"Evans\",\"Samuel\",\"Tina\",\"Eva\"]\n",
    "Old_Students.extend(New_Students)\n",
    "Names_frequency = dict()\n",
    "\n",
    "print(\"Total Names of Student\\t\\tNO.\")\n",
    "print(\"#############\\t\\t####\")\n",
    "\n",
    " \n",
    "for Names in Old_Students:\n",
    "    Names_frequency[Names] = 0\n",
    "    \n",
    "for Names in Old_Students:\n",
    "    Names_frequency[Names] += 1\n",
    "            \n",
    "    \n",
    "#for i in range(len(Old_Students)):\n",
    "    #print(str(i+1) + \".\" + Old_Students.pop())    \n",
    "item_no = 0\n",
    "sum_total = 0\n",
    "for Names in Names_frequency:\n",
    "    item_no += 1\n",
    "    print(str(item_no)+ \" . \" + Names+\"\\t\\t\"+ str(Names_frequency[Names]))\n",
    "    sum_total += Names_frequency[Names]\n",
    "print(\"\\n--------------\\t\\t----\")\n",
    "#print sun total\n",
    "print (\"\\nSUM TOTAL:\\t\\t\" + str(sum_total))\n",
    "print(\"\\n--------------\\t\\t----\")"
   ]
  },
  {
   "cell_type": "markdown",
   "id": "5047c7af",
   "metadata": {},
   "source": [
    "## Q4"
   ]
  },
  {
   "cell_type": "markdown",
   "id": "b2964149",
   "metadata": {},
   "source": [
    "# Q5"
   ]
  },
  {
   "cell_type": "code",
   "execution_count": 5,
   "id": "92e1039c",
   "metadata": {},
   "outputs": [
    {
     "name": "stdout",
     "output_type": "stream",
     "text": [
      "1. Covert to List:\n",
      "['2', '3', '4', '3', '4', '3', '2', '3', '9', '0', '8', '3', '3', '4', '7', '3']\n",
      "...................:\n",
      "2. Data Type:\n"
     ]
    },
    {
     "data": {
      "text/plain": [
       "list"
      ]
     },
     "execution_count": 5,
     "metadata": {},
     "output_type": "execute_result"
    }
   ],
   "source": [
    "Str_numbers= \"2 3 4 3 4 3 2 3 9 0 8 3 3 4 7 3\"\n",
    "numbers = Str_numbers.split()\n",
    "print(\"1. Covert to List:\")\n",
    "print(numbers)\n",
    "\n",
    "print(\"...................:\")\n",
    "print(\"2. Data Type:\")\n",
    "type(numbers)"
   ]
  },
  {
   "cell_type": "markdown",
   "id": "24e60c8e",
   "metadata": {},
   "source": [
    "# Q6"
   ]
  },
  {
   "cell_type": "code",
   "execution_count": 2,
   "id": "47390f54",
   "metadata": {},
   "outputs": [
    {
     "name": "stdout",
     "output_type": "stream",
     "text": [
      "First Range of Numbers:\n",
      "2\n",
      "Last Range of Numbers:\n",
      "12\n"
     ]
    }
   ],
   "source": [
    "z = [\"2\",\"3\",\"10\",\"1\",\"0\",\"23\",\"15\",\"5\",\"3\",\"12\"]\n",
    "\n",
    "print(\"First Range of Numbers:\")\n",
    "print(z[0])\n",
    "\n",
    "print(\"Last Range of Numbers:\")\n",
    "print(z[-1])\n"
   ]
  },
  {
   "cell_type": "markdown",
   "id": "a83a324b",
   "metadata": {},
   "source": [
    "# Q7"
   ]
  },
  {
   "cell_type": "code",
   "execution_count": 6,
   "id": "a8ed98e2",
   "metadata": {},
   "outputs": [
    {
     "name": "stdout",
     "output_type": "stream",
     "text": [
      "[50, 60, 70, 80]\n"
     ]
    }
   ],
   "source": [
    "perameters = [n for n in range(50, 81,10)]\n",
    "print(perameters)\n",
    "\n"
   ]
  },
  {
   "cell_type": "markdown",
   "id": "c889cf99",
   "metadata": {},
   "source": [
    "# Q8"
   ]
  },
  {
   "cell_type": "code",
   "execution_count": 7,
   "id": "a8e578d4",
   "metadata": {},
   "outputs": [
    {
     "name": "stdout",
     "output_type": "stream",
     "text": [
      "[-8, -6, -4, -2, 0, 2, 4, 6, 8]\n"
     ]
    }
   ],
   "source": [
    "perameters = [n for n in range(-8, 9, 2)]\n",
    "print(perameters)"
   ]
  },
  {
   "cell_type": "code",
   "execution_count": 14,
   "id": "ded16d45",
   "metadata": {},
   "outputs": [
    {
     "name": "stdout",
     "output_type": "stream",
     "text": [
      "0 1 2 3 4 5 6 7 8 9 10 11 12 13 14 15 16 17 18 19 20 21 22 23 24 25 26 27 28 29 30 31 32 33 34 35 36 37 38 39 40 41 42 43 44 45 46 47 48 49 50 51 52 53 54 55 56 57 58 59 60 61 62 63 64 65 66 67 68 69 70 71 72 73 74 75 76 77 78 79 80 81 82 83 84 85 86 87 88 89 90 91 92 93 94 95 96 97 98 99 100 "
     ]
    }
   ],
   "source": [
    "for i in range(101):\n",
    " print (i, end=\" \")"
   ]
  },
  {
   "cell_type": "code",
   "execution_count": 26,
   "id": "c8aa0708",
   "metadata": {},
   "outputs": [
    {
     "name": "stdout",
     "output_type": "stream",
     "text": [
      "A B C D E F G H I J K L M N O P Q R S T U V W X Y Z \n",
      "\n",
      "a b c d e f g h i j k l m n o p q r s t u v w x y z "
     ]
    }
   ],
   "source": [
    "for i in range(65,91):\n",
    " print (chr(i), end=\" \")\n",
    "print (\"\\n\")\n",
    "for ii in range(97,123):\n",
    " print (chr(ii), end=\" \")"
   ]
  },
  {
   "cell_type": "code",
   "execution_count": null,
   "id": "57b05c9f",
   "metadata": {},
   "outputs": [],
   "source": []
  },
  {
   "cell_type": "code",
   "execution_count": null,
   "id": "f7602e73",
   "metadata": {},
   "outputs": [],
   "source": []
  },
  {
   "cell_type": "code",
   "execution_count": 9,
   "id": "c3d75664",
   "metadata": {},
   "outputs": [
    {
     "ename": "SyntaxError",
     "evalue": "invalid syntax (841704674.py, line 1)",
     "output_type": "error",
     "traceback": [
      "\u001b[1;36m  Input \u001b[1;32mIn [9]\u001b[1;36m\u001b[0m\n\u001b[1;33m    for (i=0; <=100; i++) {\u001b[0m\n\u001b[1;37m          ^\u001b[0m\n\u001b[1;31mSyntaxError\u001b[0m\u001b[1;31m:\u001b[0m invalid syntax\n"
     ]
    }
   ],
   "source": []
  }
 ],
 "metadata": {
  "kernelspec": {
   "display_name": "Python 3 (ipykernel)",
   "language": "python",
   "name": "python3"
  },
  "language_info": {
   "codemirror_mode": {
    "name": "ipython",
    "version": 3
   },
   "file_extension": ".py",
   "mimetype": "text/x-python",
   "name": "python",
   "nbconvert_exporter": "python",
   "pygments_lexer": "ipython3",
   "version": "3.9.12"
  }
 },
 "nbformat": 4,
 "nbformat_minor": 5
}
