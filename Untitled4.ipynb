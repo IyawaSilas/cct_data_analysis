{
 "cells": [
  {
   "cell_type": "code",
   "execution_count": 1,
   "id": "8fd67d42",
   "metadata": {},
   "outputs": [],
   "source": [
    "i = 2\n",
    "j = 5"
   ]
  },
  {
   "cell_type": "code",
   "execution_count": 2,
   "id": "f2d990a6",
   "metadata": {},
   "outputs": [],
   "source": [
    "i, j = j, i"
   ]
  },
  {
   "cell_type": "code",
   "execution_count": 3,
   "id": "c5f63ba6",
   "metadata": {},
   "outputs": [
    {
     "name": "stdout",
     "output_type": "stream",
     "text": [
      "i = 5 j = 2\n"
     ]
    }
   ],
   "source": [
    "print(\"i = \" + str(i), \"j = \" + str(j))"
   ]
  },
  {
   "cell_type": "code",
   "execution_count": 4,
   "id": "393aa09d",
   "metadata": {},
   "outputs": [],
   "source": [
    "def switch (i,j):\n",
    "    val1, val2 = j, i\n",
    "    return val1, val2"
   ]
  },
  {
   "cell_type": "code",
   "execution_count": 27,
   "id": "9b7f0149",
   "metadata": {},
   "outputs": [
    {
     "name": "stdout",
     "output_type": "stream",
     "text": [
      "2 5\n"
     ]
    }
   ],
   "source": [
    "i, j= switch(i,j)\n",
    "print (val1, val2)"
   ]
  },
  {
   "cell_type": "code",
   "execution_count": null,
   "id": "6d2fc2a3",
   "metadata": {},
   "outputs": [],
   "source": []
  },
  {
   "cell_type": "code",
   "execution_count": 31,
   "id": "d9a1ee36",
   "metadata": {},
   "outputs": [],
   "source": [
    "def add(a,b):\n",
    "    ab = a + b\n",
    "    return ab"
   ]
  },
  {
   "cell_type": "code",
   "execution_count": 32,
   "id": "e7d25fb4",
   "metadata": {},
   "outputs": [],
   "source": [
    "x = 3\n",
    "y = 7\n",
    "result =add(x,y)"
   ]
  },
  {
   "cell_type": "code",
   "execution_count": 33,
   "id": "164ac767",
   "metadata": {},
   "outputs": [
    {
     "data": {
      "text/plain": [
       "10"
      ]
     },
     "execution_count": 33,
     "metadata": {},
     "output_type": "execute_result"
    }
   ],
   "source": [
    "result"
   ]
  },
  {
   "cell_type": "code",
   "execution_count": 65,
   "id": "64c8a305",
   "metadata": {},
   "outputs": [],
   "source": [
    "def mean(a,b,c,d):\n",
    "    ab=(a+b+c+d)/4\n",
    "    return ab"
   ]
  },
  {
   "cell_type": "code",
   "execution_count": 74,
   "id": "52506ce1",
   "metadata": {},
   "outputs": [
    {
     "data": {
      "text/plain": [
       "5.0"
      ]
     },
     "execution_count": 74,
     "metadata": {},
     "output_type": "execute_result"
    }
   ],
   "source": [
    "a=2\n",
    "b=4\n",
    "c=6\n",
    "d=8\n",
    "xy=mean(a,b,c,d)\n",
    "xy"
   ]
  },
  {
   "cell_type": "code",
   "execution_count": 80,
   "id": "6f3d127e",
   "metadata": {},
   "outputs": [],
   "source": [
    "def square(x):\n",
    "    ab=(x*x)\n",
    "    return ab"
   ]
  },
  {
   "cell_type": "code",
   "execution_count": 83,
   "id": "080eeca4",
   "metadata": {},
   "outputs": [
    {
     "data": {
      "text/plain": [
       "64"
      ]
     },
     "execution_count": 83,
     "metadata": {},
     "output_type": "execute_result"
    }
   ],
   "source": [
    "y=8\n",
    "yz=square(y)\n",
    "yz\n"
   ]
  },
  {
   "cell_type": "code",
   "execution_count": 85,
   "id": "b3d08f2e",
   "metadata": {},
   "outputs": [
    {
     "ename": "SyntaxError",
     "evalue": "invalid syntax (1220893383.py, line 2)",
     "output_type": "error",
     "traceback": [
      "\u001b[1;36m  Input \u001b[1;32mIn [85]\u001b[1;36m\u001b[0m\n\u001b[1;33m    ab=(x = ++)\u001b[0m\n\u001b[1;37m          ^\u001b[0m\n\u001b[1;31mSyntaxError\u001b[0m\u001b[1;31m:\u001b[0m invalid syntax\n"
     ]
    }
   ],
   "source": [
    "def absolute (x):\n",
    "    ab=(x)\n",
    "    return ab\n",
    "     \n",
    "\n"
   ]
  }
 ],
 "metadata": {
  "kernelspec": {
   "display_name": "Python 3 (ipykernel)",
   "language": "python",
   "name": "python3"
  },
  "language_info": {
   "codemirror_mode": {
    "name": "ipython",
    "version": 3
   },
   "file_extension": ".py",
   "mimetype": "text/x-python",
   "name": "python",
   "nbconvert_exporter": "python",
   "pygments_lexer": "ipython3",
   "version": "3.9.12"
  }
 },
 "nbformat": 4,
 "nbformat_minor": 5
}
