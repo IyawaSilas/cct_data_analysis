{
 "cells": [
  {
   "cell_type": "code",
   "execution_count": 1,
   "id": "d75c8a3d",
   "metadata": {},
   "outputs": [
    {
     "data": {
      "text/plain": [
       "['1',\n",
       " ',',\n",
       " '2',\n",
       " ',',\n",
       " '4',\n",
       " ',',\n",
       " '6',\n",
       " ',',\n",
       " '8',\n",
       " ',',\n",
       " '1',\n",
       " '6',\n",
       " ',',\n",
       " '3',\n",
       " '2',\n",
       " ',',\n",
       " '6',\n",
       " '4',\n",
       " ',',\n",
       " '1',\n",
       " '2',\n",
       " '8',\n",
       " ',',\n",
       " '2',\n",
       " '5',\n",
       " '6']"
      ]
     },
     "execution_count": 1,
     "metadata": {},
     "output_type": "execute_result"
    }
   ],
   "source": [
    "A= \"1,2,4,6,8,16,32,64,128,256\"\n",
    "A_list = [c for c in A]\n",
    "A_list"
   ]
  },
  {
   "cell_type": "code",
   "execution_count": 8,
   "id": "f3a1ae4b",
   "metadata": {},
   "outputs": [
    {
     "name": "stdout",
     "output_type": "stream",
     "text": [
      "[1, 2, 4, 8, 16, 32, 64, 128, 256]\n"
     ]
    }
   ],
   "source": [
    "powers_of_two = [2 ** n for n in range(9) ]\n",
    "print(powers_of_two)"
   ]
  },
  {
   "cell_type": "code",
   "execution_count": 9,
   "id": "38b3dff4",
   "metadata": {},
   "outputs": [
    {
     "name": "stdout",
     "output_type": "stream",
     "text": [
      "[1, 2, 4, 8, 16, 32, 64, 128, 256]\n"
     ]
    }
   ],
   "source": [
    "powers_of_two = [1 << n for n in range(9)]\n",
    "print(powers_of_two)\n"
   ]
  }
 ],
 "metadata": {
  "kernelspec": {
   "display_name": "Python 3 (ipykernel)",
   "language": "python",
   "name": "python3"
  },
  "language_info": {
   "codemirror_mode": {
    "name": "ipython",
    "version": 3
   },
   "file_extension": ".py",
   "mimetype": "text/x-python",
   "name": "python",
   "nbconvert_exporter": "python",
   "pygments_lexer": "ipython3",
   "version": "3.9.12"
  }
 },
 "nbformat": 4,
 "nbformat_minor": 5
}
