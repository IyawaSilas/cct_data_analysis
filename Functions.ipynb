{
 "cells": [
  {
   "cell_type": "code",
   "execution_count": 1,
   "id": "8fd67d42",
   "metadata": {},
   "outputs": [],
   "source": [
    "i = 2\n",
    "j = 5"
   ]
  },
  {
   "cell_type": "code",
   "execution_count": 2,
   "id": "f2d990a6",
   "metadata": {},
   "outputs": [],
   "source": [
    "i, j = j, i"
   ]
  },
  {
   "cell_type": "code",
   "execution_count": 3,
   "id": "c5f63ba6",
   "metadata": {},
   "outputs": [
    {
     "name": "stdout",
     "output_type": "stream",
     "text": [
      "i = 5 j = 2\n"
     ]
    }
   ],
   "source": [
    "print(\"i = \" + str(i), \"j = \" + str(j))"
   ]
  },
  {
   "cell_type": "code",
   "execution_count": 4,
   "id": "393aa09d",
   "metadata": {},
   "outputs": [],
   "source": [
    "def switch (i,j):\n",
    "    val1, val2 = j, i\n",
    "    return val1, val2"
   ]
  },
  {
   "cell_type": "code",
   "execution_count": 27,
   "id": "9b7f0149",
   "metadata": {},
   "outputs": [
    {
     "name": "stdout",
     "output_type": "stream",
     "text": [
      "2 5\n"
     ]
    }
   ],
   "source": [
    "i, j= switch(i,j)\n",
    "print (val1, val2)"
   ]
  },
  {
   "cell_type": "code",
   "execution_count": null,
   "id": "6d2fc2a3",
   "metadata": {},
   "outputs": [],
   "source": []
  },
  {
   "cell_type": "code",
   "execution_count": 31,
   "id": "d9a1ee36",
   "metadata": {},
   "outputs": [],
   "source": [
    "def add(a,b):\n",
    "    ab = a + b\n",
    "    return ab"
   ]
  },
  {
   "cell_type": "code",
   "execution_count": 32,
   "id": "e7d25fb4",
   "metadata": {},
   "outputs": [],
   "source": [
    "x = 3\n",
    "y = 7\n",
    "result =add(x,y)"
   ]
  },
  {
   "cell_type": "code",
   "execution_count": 33,
   "id": "164ac767",
   "metadata": {},
   "outputs": [
    {
     "data": {
      "text/plain": [
       "10"
      ]
     },
     "execution_count": 33,
     "metadata": {},
     "output_type": "execute_result"
    }
   ],
   "source": [
    "result"
   ]
  },
  {
   "cell_type": "code",
   "execution_count": 65,
   "id": "64c8a305",
   "metadata": {},
   "outputs": [],
   "source": [
    "def mean(a,b,c,d):\n",
    "    ab=(a+b+c+d)/4\n",
    "    return ab"
   ]
  },
  {
   "cell_type": "code",
   "execution_count": 74,
   "id": "52506ce1",
   "metadata": {},
   "outputs": [
    {
     "data": {
      "text/plain": [
       "5.0"
      ]
     },
     "execution_count": 74,
     "metadata": {},
     "output_type": "execute_result"
    }
   ],
   "source": [
    "a=2\n",
    "b=4\n",
    "c=6\n",
    "d=8\n",
    "xy=mean(a,b,c,d)\n",
    "xy"
   ]
  },
  {
   "cell_type": "code",
   "execution_count": null,
   "id": "5f04bf47",
   "metadata": {},
   "outputs": [],
   "source": [
    "# def square(x):\n",
    "    ab=(x*x)\n",
    "    return ab"
   ]
  },
  {
   "cell_type": "code",
   "execution_count": 83,
   "id": "080eeca4",
   "metadata": {},
   "outputs": [
    {
     "data": {
      "text/plain": [
       "64"
      ]
     },
     "execution_count": 83,
     "metadata": {},
     "output_type": "execute_result"
    }
   ],
   "source": [
    "y=8\n",
    "yz=square(y)\n",
    "yz\n"
   ]
  },
  {
   "cell_type": "markdown",
   "id": "7722ac41",
   "metadata": {},
   "source": [
    "### function assignment"
   ]
  },
  {
   "cell_type": "code",
   "execution_count": 4,
   "id": "b3d08f2e",
   "metadata": {},
   "outputs": [
    {
     "name": "stdout",
     "output_type": "stream",
     "text": [
      "9 x 1 = 9\n",
      "9 x 2 = 18\n",
      "9 x 3 = 27\n",
      "9 x 4 = 36\n",
      "9 x 5 = 45\n",
      "9 x 6 = 54\n",
      "9 x 7 = 63\n",
      "9 x 8 = 72\n",
      "9 x 9 = 81\n",
      "9 x 10 = 90\n",
      "9 x 11 = 99\n",
      "9 x 12 = 108\n"
     ]
    }
   ],
   "source": [
    "def print_9_times_table():\n",
    "    for i in range(1, 13):\n",
    "        print(\"9 x\", i, \"=\", 9 * i)\n",
    "\n",
    "print_9_times_table()\n",
    "\n",
    "     \n",
    "\n"
   ]
  },
  {
   "cell_type": "code",
   "execution_count": 2,
   "id": "0f3756a0",
   "metadata": {},
   "outputs": [
    {
     "name": "stdout",
     "output_type": "stream",
     "text": [
      "144\n"
     ]
    }
   ],
   "source": [
    "def sum_even(my_list):\n",
    "    product = 1\n",
    "    for num in my_list:\n",
    "        if num % 2 == 0:\n",
    "            product *= num\n",
    "    return product\n",
    "\n",
    "my_list = [3, 12, 5, 1, 2, 6]\n",
    "print(sum_even(my_list))"
   ]
  },
  {
   "cell_type": "code",
   "execution_count": 3,
   "id": "1411d63b",
   "metadata": {},
   "outputs": [
    {
     "name": "stdout",
     "output_type": "stream",
     "text": [
      "5\n"
     ]
    }
   ],
   "source": [
    "def absolute_value(num):\n",
    "    if num < 0:\n",
    "        return -num\n",
    "    else:\n",
    "        return num\n",
    "print(absolute_value(-5))"
   ]
  }
 ],
 "metadata": {
  "kernelspec": {
   "display_name": "Python 3 (ipykernel)",
   "language": "python",
   "name": "python3"
  },
  "language_info": {
   "codemirror_mode": {
    "name": "ipython",
    "version": 3
   },
   "file_extension": ".py",
   "mimetype": "text/x-python",
   "name": "python",
   "nbconvert_exporter": "python",
   "pygments_lexer": "ipython3",
   "version": "3.9.12"
  }
 },
 "nbformat": 4,
 "nbformat_minor": 5
}
